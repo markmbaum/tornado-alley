{
  "nbformat": 4,
  "nbformat_minor": 0,
  "metadata": {
    "colab": {
      "name": "tornado_alley",
      "provenance": [],
      "collapsed_sections": [],
      "machine_shape": "hm"
    },
    "kernelspec": {
      "name": "python3",
      "display_name": "Python 3"
    },
    "language_info": {
      "name": "python"
    },
    "accelerator": "GPU",
    "gpuClass": "standard"
  },
  "cells": [
    {
      "cell_type": "code",
      "execution_count": 1,
      "metadata": {
        "colab": {
          "base_uri": "https://localhost:8080/"
        },
        "id": "ZMEhG78lZ4Nx",
        "outputId": "4cd633ed-c574-4740-9006-04a6c830e423"
      },
      "outputs": [
        {
          "output_type": "stream",
          "name": "stdout",
          "text": [
            "Updated property [core/project].\n"
          ]
        }
      ],
      "source": [
        "from google.colab import auth\n",
        "auth.authenticate_user()\n",
        "\n",
        "project_id = 'infra-forklift-352900'\n",
        "!gcloud config set project {project_id}"
      ]
    },
    {
      "cell_type": "code",
      "source": [
        "!gsutil cp gs://tornado-alley-dataset/pro-dataset.zip ."
      ],
      "metadata": {
        "colab": {
          "base_uri": "https://localhost:8080/"
        },
        "id": "Uw7nyeb3lcUD",
        "outputId": "6fb8bc0c-25fd-4397-ecf9-d637064033f1"
      },
      "execution_count": 2,
      "outputs": [
        {
          "output_type": "stream",
          "name": "stdout",
          "text": [
            "Copying gs://tornado-alley-dataset/pro-dataset.zip...\n",
            "\\ [1 files][ 11.3 GiB/ 11.3 GiB]   61.6 MiB/s                                   \n",
            "Operation completed over 1 objects/11.3 GiB.                                     \n"
          ]
        }
      ]
    },
    {
      "cell_type": "code",
      "source": [
        "import zipfile\n",
        "with zipfile.ZipFile('pro-dataset.zip', 'r') as zr:\n",
        "    zr.extractall('pro-dataset')"
      ],
      "metadata": {
        "id": "7oKsziaulod0"
      },
      "execution_count": 3,
      "outputs": []
    },
    {
      "cell_type": "code",
      "source": [
        "from os import listdir\n",
        "from os.path import join\n",
        "import numpy as np\n",
        "from random import shuffle"
      ],
      "metadata": {
        "id": "LtL2gpOuby-u"
      },
      "execution_count": 10,
      "outputs": []
    },
    {
      "cell_type": "code",
      "source": [
        "import tensorflow as tf\n",
        "from tensorflow.data import Dataset\n",
        "from tensorflow.keras import Sequential\n",
        "from tensorflow.keras.models import Model\n",
        "from tensorflow.keras.layers import *\n",
        "from tensorflow.keras.losses import CategoricalCrossentropy\n",
        "from tensorflow.keras.callbacks import LearningRateScheduler"
      ],
      "metadata": {
        "id": "HbpeWQGYaynQ"
      },
      "execution_count": 5,
      "outputs": []
    },
    {
      "cell_type": "code",
      "source": [
        "#input and label files\n",
        "fns = listdir('pro-dataset')\n",
        "fninputs = [join('pro-dataset', fn) for fn in fns if 'inputs' in fn and int(fn[:4]) > 2012]\n",
        "fnlabels = [join('pro-dataset', fn) for fn in fns if 'labels' in fn and int(fn[:4]) > 2012]"
      ],
      "metadata": {
        "id": "8y3qANbFnj7W"
      },
      "execution_count": 22,
      "outputs": []
    },
    {
      "cell_type": "code",
      "source": [
        "inputs = np.concatenate([np.load(fn) for fn in fninputs])\n",
        "inputs.shape"
      ],
      "metadata": {
        "colab": {
          "base_uri": "https://localhost:8080/"
        },
        "id": "QdHd4vzobuCL",
        "outputId": "3c48eaa0-d509-4279-9122-6e6cf21e6a46"
      },
      "execution_count": 23,
      "outputs": [
        {
          "output_type": "execute_result",
          "data": {
            "text/plain": [
              "(14736, 29, 16, 32, 6)"
            ]
          },
          "metadata": {},
          "execution_count": 23
        }
      ]
    },
    {
      "cell_type": "code",
      "source": [
        "labels = np.concatenate([np.load(fn) for fn in fnlabels])\n",
        "labels.shape"
      ],
      "metadata": {
        "colab": {
          "base_uri": "https://localhost:8080/"
        },
        "id": "LiyGXD5CcDyJ",
        "outputId": "3b26feee-7a3b-45a0-eb18-38af93dcdccb"
      },
      "execution_count": 25,
      "outputs": [
        {
          "output_type": "execute_result",
          "data": {
            "text/plain": [
              "(14736, 3)"
            ]
          },
          "metadata": {},
          "execution_count": 25
        }
      ]
    },
    {
      "cell_type": "code",
      "source": [
        "#shift each channel to [-1,1]\n",
        "for i in range(6):\n",
        "    X = inputs[:,:,:,:,i].astype(np.float64)\n",
        "    X = 2*(X - X.min())/(X.max() - X.min()) - 1\n",
        "    print(X.min(), X.max())\n",
        "    inputs[:,:,:,:,i] = X"
      ],
      "metadata": {
        "id": "x4uYwMClcoja",
        "colab": {
          "base_uri": "https://localhost:8080/"
        },
        "outputId": "836b24bc-eccd-46d3-99ac-5fdd7dbd048e"
      },
      "execution_count": 26,
      "outputs": [
        {
          "output_type": "stream",
          "name": "stdout",
          "text": [
            "-1.0 1.0\n",
            "-1.0 1.0\n",
            "-1.0 1.0\n",
            "-1.0 1.0\n",
            "-1.0 1.0\n",
            "-1.0 1.0\n"
          ]
        }
      ]
    },
    {
      "cell_type": "code",
      "source": [
        "#form a proper dataset and split\n",
        "ds = Dataset.from_tensor_slices((inputs, labels)).shuffle(inputs.shape[0])\n",
        "n = inputs.shape[0]//10\n",
        "train = ds.take(7*n).batch(16)\n",
        "validate = ds.skip(7*n).take(2*n).batch(16)\n",
        "test = ds.skip(9*n).batch(16)"
      ],
      "metadata": {
        "id": "TmbDmVMsfa9S"
      },
      "execution_count": 27,
      "outputs": []
    },
    {
      "cell_type": "code",
      "source": [
        "model = Sequential([                   \n",
        "    Conv3D(128, 3, padding='valid', activation='selu'),\n",
        "    Conv3D(128, 3, padding='valid', activation='selu'),\n",
        "    MaxPool3D((2,1,2)),\n",
        "    Conv3D(256, 3, padding='valid', activation='selu'),\n",
        "    Conv3D(256, 3, padding='valid', activation='selu'),\n",
        "    MaxPool3D(),\n",
        "    Flatten(),\n",
        "    Dense(64, activation='selu'),\n",
        "    Dense(64, activation='selu'),\n",
        "    Dense(3)\n",
        "])"
      ],
      "metadata": {
        "id": "25PyMQBUfwQa"
      },
      "execution_count": 44,
      "outputs": []
    },
    {
      "cell_type": "code",
      "source": [
        "model.compile(\n",
        "    optimizer='adam',\n",
        "    loss=CategoricalCrossentropy(from_logits=True),\n",
        "    metrics=['accuracy']\n",
        ")"
      ],
      "metadata": {
        "id": "VEGMKDFhh5jw"
      },
      "execution_count": 45,
      "outputs": []
    },
    {
      "cell_type": "code",
      "source": [
        "model.fit(\n",
        "    train,\n",
        "    epochs=16,\n",
        "    validation_data=validate,\n",
        "    callbacks=[LearningRateScheduler(lambda epoch, lr: lr*0.9)]\n",
        ")"
      ],
      "metadata": {
        "colab": {
          "base_uri": "https://localhost:8080/"
        },
        "id": "vuhHwh-9irXx",
        "outputId": "831a4e3a-9b6d-4040-b1d7-8b33a6475278"
      },
      "execution_count": 46,
      "outputs": [
        {
          "output_type": "stream",
          "name": "stdout",
          "text": [
            "Epoch 1/16\n",
            "645/645 [==============================] - 77s 118ms/step - loss: 2.5667 - accuracy: 0.4065 - val_loss: 1.1908 - val_accuracy: 0.4942 - lr: 9.0000e-04\n",
            "Epoch 2/16\n",
            "645/645 [==============================] - 76s 118ms/step - loss: 1.1202 - accuracy: 0.4567 - val_loss: 1.0416 - val_accuracy: 0.5054 - lr: 8.1000e-04\n",
            "Epoch 3/16\n",
            "645/645 [==============================] - 76s 118ms/step - loss: 1.0457 - accuracy: 0.4864 - val_loss: 1.0381 - val_accuracy: 0.4888 - lr: 7.2900e-04\n",
            "Epoch 4/16\n",
            "645/645 [==============================] - 76s 118ms/step - loss: 65.5930 - accuracy: 0.4157 - val_loss: 1.7295 - val_accuracy: 0.4959 - lr: 6.5610e-04\n",
            "Epoch 5/16\n",
            "645/645 [==============================] - 76s 118ms/step - loss: 1.3126 - accuracy: 0.4220 - val_loss: 1.0725 - val_accuracy: 0.4532 - lr: 5.9049e-04\n",
            "Epoch 6/16\n",
            "645/645 [==============================] - 76s 118ms/step - loss: 1.1304 - accuracy: 0.4358 - val_loss: 1.2759 - val_accuracy: 0.3106 - lr: 5.3144e-04\n",
            "Epoch 7/16\n",
            "645/645 [==============================] - 76s 118ms/step - loss: 1.1173 - accuracy: 0.4344 - val_loss: 1.0798 - val_accuracy: 0.4185 - lr: 4.7830e-04\n",
            "Epoch 8/16\n",
            "645/645 [==============================] - 76s 118ms/step - loss: 1.1017 - accuracy: 0.4519 - val_loss: 1.0416 - val_accuracy: 0.5041 - lr: 4.3047e-04\n",
            "Epoch 9/16\n",
            "645/645 [==============================] - 76s 118ms/step - loss: 1.0555 - accuracy: 0.4825 - val_loss: 1.0383 - val_accuracy: 0.5041 - lr: 3.8742e-04\n",
            "Epoch 10/16\n",
            "645/645 [==============================] - 76s 118ms/step - loss: 1.0434 - accuracy: 0.4910 - val_loss: 1.0289 - val_accuracy: 0.5177 - lr: 3.4868e-04\n",
            "Epoch 11/16\n",
            "645/645 [==============================] - 76s 118ms/step - loss: 1.0500 - accuracy: 0.4791 - val_loss: 1.0356 - val_accuracy: 0.5071 - lr: 3.1381e-04\n",
            "Epoch 12/16\n",
            "645/645 [==============================] - 76s 118ms/step - loss: 1.2619 - accuracy: 0.4395 - val_loss: 1.0767 - val_accuracy: 0.4830 - lr: 2.8243e-04\n",
            "Epoch 13/16\n",
            "645/645 [==============================] - 76s 118ms/step - loss: 1.0698 - accuracy: 0.4751 - val_loss: 1.0272 - val_accuracy: 0.4959 - lr: 2.5419e-04\n",
            "Epoch 14/16\n",
            "645/645 [==============================] - 76s 118ms/step - loss: 1.0509 - accuracy: 0.4824 - val_loss: 1.1088 - val_accuracy: 0.5105 - lr: 2.2877e-04\n",
            "Epoch 15/16\n",
            "645/645 [==============================] - 76s 118ms/step - loss: 1.0512 - accuracy: 0.4868 - val_loss: 1.0859 - val_accuracy: 0.4983 - lr: 2.0589e-04\n",
            "Epoch 16/16\n",
            "645/645 [==============================] - 76s 118ms/step - loss: 1.0466 - accuracy: 0.4882 - val_loss: 1.0328 - val_accuracy: 0.5000 - lr: 1.8530e-04\n"
          ]
        },
        {
          "output_type": "execute_result",
          "data": {
            "text/plain": [
              "<keras.callbacks.History at 0x7ff4945daa50>"
            ]
          },
          "metadata": {},
          "execution_count": 46
        }
      ]
    }
  ]
}